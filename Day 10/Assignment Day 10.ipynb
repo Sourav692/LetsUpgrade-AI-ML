{
 "cells": [
  {
   "cell_type": "markdown",
   "metadata": {},
   "source": [
    "Question 2:\n",
    "Write a NumPy program to create an array of 10 zeros,10 ones, 10 fives"
   ]
  },
  {
   "cell_type": "code",
   "execution_count": 9,
   "metadata": {},
   "outputs": [
    {
     "name": "stdout",
     "output_type": "stream",
     "text": [
      "An array of 10 zeros:\n",
      "[0. 0. 0. 0. 0. 0. 0. 0. 0. 0.]\n",
      "An array of 10 ones:\n",
      "[1. 1. 1. 1. 1. 1. 1. 1. 1. 1.]\n",
      "An array of 10 fives:\n",
      "[5. 5. 5. 5. 5. 5. 5. 5. 5. 5.]\n"
     ]
    }
   ],
   "source": [
    "import numpy as np\n",
    "arr1 = np.zeros(10)\n",
    "print(\"An array of 10 zeros:\")\n",
    "print(arr1)\n",
    "arr_1 = np.ones(10)\n",
    "print(\"An array of 10 ones:\")\n",
    "print(arr_1)\n",
    "arr_5=np.ones(10)*5\n",
    "print(\"An array of 10 fives:\")\n",
    "print(arr_5)"
   ]
  },
  {
   "cell_type": "markdown",
   "metadata": {},
   "source": [
    "Question 3:\n",
    "Write a NumPy program to compute sum of all elements, sum of each column and sum of each row of a\n",
    "given array"
   ]
  },
  {
   "cell_type": "code",
   "execution_count": 10,
   "metadata": {},
   "outputs": [
    {
     "name": "stdout",
     "output_type": "stream",
     "text": [
      "Original array:\n",
      "[[0 1]\n",
      " [2 3]]\n",
      "Sum of all elements:\n",
      "6\n",
      "Sum of each column:\n",
      "[2 4]\n",
      "Sum of each row:\n",
      "[1 5]\n"
     ]
    }
   ],
   "source": [
    "import numpy as np\n",
    "x = np.array([[0,1],[2,3]])\n",
    "print(\"Original array:\")\n",
    "print(x)\n",
    "print(\"Sum of all elements:\")\n",
    "print(np.sum(x))\n",
    "print(\"Sum of each column:\")\n",
    "print(np.sum(x, axis=0))\n",
    "print(\"Sum of each row:\")\n",
    "print(np.sum(x, axis=1))"
   ]
  },
  {
   "cell_type": "markdown",
   "metadata": {},
   "source": [
    "Question 4:\n",
    "Write a NumPy program to add, subtract, multiply, divide arguments element-wise."
   ]
  },
  {
   "cell_type": "code",
   "execution_count": 11,
   "metadata": {},
   "outputs": [
    {
     "name": "stdout",
     "output_type": "stream",
     "text": [
      "Add:\n",
      "5.0\n",
      "Subtract:\n",
      "-3.0\n",
      "Multiply:\n",
      "4.0\n",
      "Divide:\n",
      "0.25\n"
     ]
    }
   ],
   "source": [
    "import numpy as np\n",
    "print(\"Add:\")\n",
    "print(np.add(1.0, 4.0))\n",
    "print(\"Subtract:\")\n",
    "print(np.subtract(1.0, 4.0))\n",
    "print(\"Multiply:\")\n",
    "print(np.multiply(1.0, 4.0))\n",
    "print(\"Divide:\")\n",
    "print(np.divide(1.0, 4.0))"
   ]
  },
  {
   "cell_type": "markdown",
   "metadata": {},
   "source": [
    "Question 5:\n",
    "Write a NumPy program to compute the trigonometric sine, cosine and tangent array of angles given in\n",
    "degree."
   ]
  },
  {
   "cell_type": "code",
   "execution_count": 12,
   "metadata": {},
   "outputs": [
    {
     "name": "stdout",
     "output_type": "stream",
     "text": [
      "sine: array of angles given in degrees\n",
      "[0.         0.5        0.70710678 0.8660254  1.        ]\n",
      "cosine: array of angles given in degrees\n",
      "[1.00000000e+00 8.66025404e-01 7.07106781e-01 5.00000000e-01\n",
      " 6.12323400e-17]\n",
      "tangent: array of angles given in degrees\n",
      "[0.00000000e+00 5.77350269e-01 1.00000000e+00 1.73205081e+00\n",
      " 1.63312394e+16]\n"
     ]
    }
   ],
   "source": [
    "import numpy as np\n",
    "print(\"sine: array of angles given in degrees\")\n",
    "print(np.sin(np.array((0., 30., 45., 60., 90.)) * np.pi / 180.))\n",
    "print(\"cosine: array of angles given in degrees\")\n",
    "print(np.cos(np.array((0., 30., 45., 60., 90.)) * np.pi / 180.))\n",
    "print(\"tangent: array of angles given in degrees\")\n",
    "print(np.tan(np.array((0., 30., 45., 60., 90.)) * np.pi / 180.))"
   ]
  },
  {
   "cell_type": "markdown",
   "metadata": {},
   "source": [
    "Question 6:\n",
    "Write a Pandas program to create and display a DataFrame from a specified dictionary data which has the\n",
    "index labels"
   ]
  },
  {
   "cell_type": "code",
   "execution_count": 13,
   "metadata": {},
   "outputs": [
    {
     "name": "stdout",
     "output_type": "stream",
     "text": [
      "        name  score  attempts qualify\n",
      "a  Anastasia   12.5         1     yes\n",
      "b       Dima    9.0         3      no\n",
      "c  Katherine   16.5         2     yes\n",
      "d      James    NaN         3      no\n",
      "e      Emily    9.0         2      no\n",
      "f    Michael   20.0         3     yes\n",
      "g    Matthew   14.5         1     yes\n",
      "h      Laura    NaN         1      no\n",
      "i      Kevin    8.0         2      no\n",
      "j      Jonas   19.0         1     yes\n"
     ]
    }
   ],
   "source": [
    "import pandas as pd\n",
    "import numpy as np\n",
    "\n",
    "exam_data  = {'name': ['Anastasia', 'Dima', 'Katherine', 'James', 'Emily', 'Michael', 'Matthew', 'Laura', 'Kevin', 'Jonas'],\n",
    "        'score': [12.5, 9, 16.5, np.nan, 9, 20, 14.5, np.nan, 8, 19],\n",
    "        'attempts': [1, 3, 2, 3, 2, 3, 1, 1, 2, 1],\n",
    "        'qualify': ['yes', 'no', 'yes', 'no', 'no', 'yes', 'yes', 'no', 'no', 'yes']}\n",
    "labels = ['a', 'b', 'c', 'd', 'e', 'f', 'g', 'h', 'i', 'j']\n",
    "\n",
    "df = pd.DataFrame(exam_data , index=labels)\n",
    "print(df)"
   ]
  },
  {
   "cell_type": "markdown",
   "metadata": {},
   "source": [
    "Question 7:\n",
    "Write a Pandas program to select the 'name' and 'score' columns from the following DataFrame."
   ]
  },
  {
   "cell_type": "markdown",
   "metadata": {},
   "source": [
    "#### Data Frame is not given"
   ]
  },
  {
   "cell_type": "markdown",
   "metadata": {},
   "source": [
    "Question 8:\n",
    "Write a Pandas program to join the two given dataframes along rows and assign all data.\n",
    "\n",
    "Question 9:\n",
    "Write a Pandas program to detect missing values of a given DataFrame. Display True or False."
   ]
  },
  {
   "cell_type": "markdown",
   "metadata": {},
   "source": [
    "#### Data Frame is not given"
   ]
  },
  {
   "cell_type": "markdown",
   "metadata": {},
   "source": [
    "Question 10:\n",
    "Write a Pandas program to create and display a one-dimensional array-like object containing an array of\n",
    "data."
   ]
  },
  {
   "cell_type": "code",
   "execution_count": 15,
   "metadata": {},
   "outputs": [
    {
     "name": "stdout",
     "output_type": "stream",
     "text": [
      "0     2\n",
      "1     4\n",
      "2     6\n",
      "3     8\n",
      "4    10\n",
      "dtype: int64\n"
     ]
    }
   ],
   "source": [
    "import pandas as pd\n",
    "ds = pd.Series([2, 4, 6, 8, 10])\n",
    "print(ds)"
   ]
  },
  {
   "cell_type": "markdown",
   "metadata": {},
   "source": [
    "Question 1:\n",
    "Create an element-wise comparison (greater, greater_equal, less and less_equal) of two given arrays"
   ]
  },
  {
   "cell_type": "code",
   "execution_count": 1,
   "metadata": {},
   "outputs": [
    {
     "name": "stdout",
     "output_type": "stream",
     "text": [
      "Original numbers:\n",
      "[3 5]\n",
      "[2 5]\n",
      "Comparison - greater\n",
      "[ True False]\n",
      "Comparison - greater_equal\n",
      "[ True  True]\n",
      "Comparison - less\n",
      "[False False]\n",
      "Comparison - less_equal\n",
      "[False  True]\n"
     ]
    }
   ],
   "source": [
    "import numpy as np\n",
    "x = np.array([3, 5])\n",
    "y = np.array([2, 5])\n",
    "print(\"Original numbers:\")\n",
    "print(x)\n",
    "print(y)\n",
    "print(\"Comparison - greater\")\n",
    "print(np.greater(x, y))\n",
    "print(\"Comparison - greater_equal\")\n",
    "print(np.greater_equal(x, y))\n",
    "print(\"Comparison - less\")\n",
    "print(np.less(x, y))\n",
    "print(\"Comparison - less_equal\")\n",
    "print(np.less_equal(x, y))\n"
   ]
  },
  {
   "cell_type": "code",
   "execution_count": null,
   "metadata": {},
   "outputs": [],
   "source": []
  }
 ],
 "metadata": {
  "kernelspec": {
   "display_name": "Python 3",
   "language": "python",
   "name": "python3"
  },
  "language_info": {
   "codemirror_mode": {
    "name": "ipython",
    "version": 3
   },
   "file_extension": ".py",
   "mimetype": "text/x-python",
   "name": "python",
   "nbconvert_exporter": "python",
   "pygments_lexer": "ipython3",
   "version": "3.7.3"
  }
 },
 "nbformat": 4,
 "nbformat_minor": 2
}
