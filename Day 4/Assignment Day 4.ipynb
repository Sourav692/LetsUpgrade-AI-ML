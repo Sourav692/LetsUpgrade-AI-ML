{
 "cells": [
  {
   "cell_type": "markdown",
   "metadata": {},
   "source": [
    "Question 1 :\n",
    "Research on whether addition, subtraction, multiplication, division, floor division, and modulo operations\n",
    "be performed on complex numbers. Based on your study, implement a Python program to demonstrate\n",
    "these operations."
   ]
  },
  {
   "cell_type": "code",
   "execution_count": 13,
   "metadata": {},
   "outputs": [
    {
     "name": "stdout",
     "output_type": "stream",
     "text": [
      "The result of addition is: (9+10j)\n",
      "The result of substraction is: (3-2j)\n",
      "The result of multiplication is: (-6+48j)\n",
      "The result of division is: (-1.2+1.6j)\n"
     ]
    },
    {
     "data": {
      "text/plain": [
       "'\\nPython Complex number does not support Floor Divion and Modulo Operation\\n'"
      ]
     },
     "execution_count": 13,
     "metadata": {},
     "output_type": "execute_result"
    }
   ],
   "source": [
    "#Addition\n",
    "a = 6+4j\n",
    "b = 3+6j\n",
    "add_complex = a+b\n",
    "print(\"The result of addition is:\",add_complex)\n",
    "\n",
    "#Substraction\n",
    "subs_complex = a-b\n",
    "print(\"The result of substraction is:\",subs_complex)\n",
    "\n",
    "#Multiplication\n",
    "mul_complex = a*b\n",
    "print(\"The result of multiplication is:\",mul_complex)\n",
    "\n",
    "#division. It uses conjugate of denomicator\n",
    "\n",
    "a = 2+4j\n",
    "b = 1-2j\n",
    "division_complex = a/b\n",
    "print(\"The result of division is:\",division_complex)\n",
    "\n",
    "\"\"\"\n",
    "Python Complex number does not support Floor Divion and Modulo Operation\n",
    "\"\"\"\n"
   ]
  },
  {
   "cell_type": "markdown",
   "metadata": {},
   "source": [
    "Question 2 :\n",
    "Research on range() functions and its parameters.Create a markdown cell and write in your own words (no copy-paste from google please)what you understand about it.Implement a small program of your choice on the same."
   ]
  },
  {
   "cell_type": "code",
   "execution_count": 14,
   "metadata": {},
   "outputs": [
    {
     "name": "stdout",
     "output_type": "stream",
     "text": [
      "3\n",
      "5\n",
      "7\n",
      "9\n",
      "11\n",
      "13\n",
      "15\n",
      "17\n",
      "19\n"
     ]
    }
   ],
   "source": [
    "\"\"\"\n",
    "The range() function returns a sequence of numbers, starting from 0 by default, and increments by 1 (by default), and stops before a specified number.\n",
    "\n",
    "Syntex:\n",
    "range(start, stop, step)\n",
    "\n",
    "start\tOptional. An integer number specifying at which position to start. Default is 0\n",
    "stop\tRequired. An integer number specifying at which position to stop (not included).\n",
    "step\tOptional. An integer number specifying the incrementation. Default is 1\n",
    "\"\"\"\n",
    "\n",
    "x = range(3, 20, 2)\n",
    "for n in x:\n",
    "  print(n)"
   ]
  },
  {
   "cell_type": "markdown",
   "metadata": {},
   "source": [
    "Question 3:\n",
    "Consider two numbers. Perform their subtraction and if the result of subtraction is greater than 25, print\n",
    "their multiplication result else print their division result."
   ]
  },
  {
   "cell_type": "code",
   "execution_count": 19,
   "metadata": {},
   "outputs": [
    {
     "data": {
      "text/plain": [
       "('The division result is:', 1.2)"
      ]
     },
     "execution_count": 19,
     "metadata": {},
     "output_type": "execute_result"
    }
   ],
   "source": [
    "def function1(num1,num2):\n",
    "    \n",
    "    subs = abs(num1-num2)\n",
    "    \n",
    "    if subs > 25:\n",
    "        return (\"The multiplication result of two number is:\",num1*num2)\n",
    "    else:\n",
    "        if num1 > num2:\n",
    "            return(\"The division result is:\",num1/num2)\n",
    "        else:\n",
    "            return(\"The division result is:\",num2/num1)\n",
    "\n",
    "result = function1(100,120)\n",
    "result"
   ]
  },
  {
   "cell_type": "markdown",
   "metadata": {},
   "source": [
    "Question 4:\n",
    "Consider a list of 10 elements of integer values. If the number in the list is divisible by 2, print the result as\n",
    "\"square of that number minus 2\"."
   ]
  },
  {
   "cell_type": "code",
   "execution_count": 24,
   "metadata": {},
   "outputs": [
    {
     "name": "stdout",
     "output_type": "stream",
     "text": [
      "Square of the number minus 2 is: 2\n",
      "Square of the number minus 2 is: 14\n",
      "Square of the number minus 2 is: 34\n"
     ]
    }
   ],
   "source": [
    "list1 = [1,2,3,4,5,6]\n",
    "\n",
    "for element in list1:\n",
    "    if element%2 == 0:\n",
    "        print(\"Square of the number minus 2 is:\",((element**2)-2))"
   ]
  },
  {
   "cell_type": "markdown",
   "metadata": {},
   "source": [
    "Question 5:\n",
    "Consider a list of 10 elements. Print all the elements in the list which are greater than 7 when that number\n",
    "is divided 2."
   ]
  },
  {
   "cell_type": "code",
   "execution_count": 31,
   "metadata": {},
   "outputs": [
    {
     "name": "stdout",
     "output_type": "stream",
     "text": [
      "[16, 18, 20]\n"
     ]
    }
   ],
   "source": [
    "list1 = [2,4,5,7,10,12,14,16,18,20]\n",
    "list2 = []\n",
    "\n",
    "for element in list1:\n",
    "    if (element/2 > 7):\n",
    "        list2.append(element)\n",
    "        \n",
    "print(list2)"
   ]
  },
  {
   "cell_type": "code",
   "execution_count": null,
   "metadata": {},
   "outputs": [],
   "source": []
  }
 ],
 "metadata": {
  "kernelspec": {
   "display_name": "Python 3",
   "language": "python",
   "name": "python3"
  },
  "language_info": {
   "codemirror_mode": {
    "name": "ipython",
    "version": 3
   },
   "file_extension": ".py",
   "mimetype": "text/x-python",
   "name": "python",
   "nbconvert_exporter": "python",
   "pygments_lexer": "ipython3",
   "version": "3.7.3"
  }
 },
 "nbformat": 4,
 "nbformat_minor": 2
}
