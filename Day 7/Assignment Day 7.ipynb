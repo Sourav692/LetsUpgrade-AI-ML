{
 "cells": [
  {
   "cell_type": "code",
   "execution_count": 1,
   "metadata": {},
   "outputs": [
    {
     "data": {
      "text/plain": [
       "'\\nQuestion 1:\\nWrite a program to copy the contents of one file to another using a for loop. (Don’t use built-in copy\\nfunction)\\n'"
      ]
     },
     "execution_count": 1,
     "metadata": {},
     "output_type": "execute_result"
    }
   ],
   "source": [
    "\"\"\"\n",
    "Question 1:\n",
    "Write a program to copy the contents of one file to another using a for loop. (Don’t use built-in copy\n",
    "function)\n",
    "\"\"\""
   ]
  },
  {
   "cell_type": "code",
   "execution_count": 3,
   "metadata": {},
   "outputs": [],
   "source": [
    "with open(\"test.txt\") as f:\n",
    "    with open(\"out.txt\", \"w\") as f1:\n",
    "        for line in f:\n",
    "            f1.write(line)"
   ]
  },
  {
   "cell_type": "markdown",
   "metadata": {},
   "source": [
    "Question 2:\n",
    "Write a Python program to find maximum and minimum values in the dictionary. Do not use built-in min\n",
    "and max functions."
   ]
  },
  {
   "cell_type": "code",
   "execution_count": 21,
   "metadata": {},
   "outputs": [
    {
     "name": "stdout",
     "output_type": "stream",
     "text": [
      "Maximum value is 3\n",
      "Minimum value is 1\n"
     ]
    }
   ],
   "source": [
    "def findMaxAndMin(test_dict):\n",
    "    \n",
    "    max = [test_dict[key] for key in test_dict if all(test_dict[temp] <= test_dict[key] for temp in test_dict)] \n",
    "    min = [test_dict[key] for key in test_dict if all(test_dict[temp] >= test_dict[key] for temp in test_dict)]\n",
    "    \n",
    "    for elem in max:\n",
    "        print (\"Maximum value is\", elem)\n",
    "    for elem in min:\n",
    "        print(\"Minimum value is\", elem)\n",
    "\n",
    "test_dict = {'Gfg' : 1, 'for' : 2, 'CS' : 3} \n",
    "findMaxAndMin(test_dict)"
   ]
  },
  {
   "cell_type": "code",
   "execution_count": null,
   "metadata": {},
   "outputs": [],
   "source": []
  }
 ],
 "metadata": {
  "kernelspec": {
   "display_name": "Python 3",
   "language": "python",
   "name": "python3"
  },
  "language_info": {
   "codemirror_mode": {
    "name": "ipython",
    "version": 3
   },
   "file_extension": ".py",
   "mimetype": "text/x-python",
   "name": "python",
   "nbconvert_exporter": "python",
   "pygments_lexer": "ipython3",
   "version": "3.7.3"
  }
 },
 "nbformat": 4,
 "nbformat_minor": 2
}
