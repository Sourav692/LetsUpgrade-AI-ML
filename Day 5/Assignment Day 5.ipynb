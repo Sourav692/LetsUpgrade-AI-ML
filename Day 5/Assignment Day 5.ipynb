{
 "cells": [
  {
   "cell_type": "markdown",
   "metadata": {},
   "source": [
    "Question 1 :\n",
    "Write a Python program to find the first 20 non-even prime natural numbers."
   ]
  },
  {
   "cell_type": "code",
   "execution_count": 5,
   "metadata": {},
   "outputs": [
    {
     "name": "stdout",
     "output_type": "stream",
     "text": [
      "First N prime number, N ? 20\n",
      "[3, 5, 7, 11, 13, 17, 19, 23, 29, 31, 37, 41, 43, 47, 53, 59, 61, 67, 71, 73]\n"
     ]
    }
   ],
   "source": [
    "n = int(input(\"First N prime number, N ? \"))\n",
    "N = n+1\n",
    "p = [2]\n",
    "c = 2\n",
    "\n",
    "while len(p) < N:\n",
    "    j = 0\n",
    "    c += 1\n",
    "    while j < len(p):\n",
    "        if c % p[j] == 0:\n",
    "            break\n",
    "        elif j == len(p) - 1:\n",
    "            p.append(c)\n",
    "        j += 1\n",
    "print(p[1:])"
   ]
  },
  {
   "cell_type": "markdown",
   "metadata": {},
   "source": [
    "Question 2 :\n",
    "Write a Python program to implement 15 functions of string."
   ]
  },
  {
   "cell_type": "code",
   "execution_count": 28,
   "metadata": {},
   "outputs": [
    {
     "name": "stdout",
     "output_type": "stream",
     "text": [
      "The first occurrence of str2 is at : 26\n",
      "The last occurrence of str2 is at : 26\n",
      "str1 begins with : LetsUpgrade\n",
      "str1 does not end with : LetsUpgrade\n",
      "All characters in str are upper cased\n",
      "All characters in str1 are lower cased\n",
      "The lower case converted string is : letsupgrade is to upgrade\n",
      "The upper case converted string is : LETSUPGRADE IS TO UPGRADE\n",
      "The swap case converted string is : lETSuPGRADE IS tO uPgRAdE\n",
      "The title case converted string is : Letsupgrade Is To Upgrade\n",
      "The length of string is :  25\n",
      "Number of appearance of upgrade is : 2\n",
      "The string after centering with '-' is : ----letsupgrade-----\n",
      "The string after ljust is : letsupgrade---------\n",
      "The string after rjust is : ---------letsupgrade\n"
     ]
    }
   ],
   "source": [
    "\"\"\"\n",
    "1. find(“string”, beg, end) :- This function is used to find the position of the substring within a string.It takes 3 arguments, substring , starting index( by default 0) and ending index( by default string length).\n",
    "\n",
    "    It returns “-1 ” if string is not found in given range.\n",
    "    It returns first occurrence of string if found.\n",
    "\"\"\"\n",
    "\n",
    "str = \"AI ML Assignment Day 5 of LetsUpgrade\"\n",
    "str2 = \"LetsUpgrade\"\n",
    "\n",
    "print (\"The first occurrence of str2 is at : \", end=\"\") \n",
    "print (str.find(str2,4) ) \n",
    "\n",
    "\"\"\"\n",
    "2. rfind(“string”, beg, end) :- This function has the similar working as find(), but it returns the position of the last occurrence of string.\n",
    "\"\"\"\n",
    "\n",
    "print (\"The last occurrence of str2 is at : \", end=\"\") \n",
    "print ( str.rfind( str2, 4) ) \n",
    "\n",
    "\"\"\"\n",
    "3. startswith(“string”, beg, end) :- The purpose of this function is to return true if the function begins with mentioned string(prefix) else return false.\n",
    "4. endswith(“string”, beg, end) :- The purpose of this function is to return true if the function ends with mentioned string(suffix) else return false.\n",
    "\"\"\"\n",
    "str = \"LetsUpgrade\"\n",
    "str1 = \"LetsUpgradelmsortal\"\n",
    "\n",
    "\n",
    "if str1.startswith(str): \n",
    "        print (\"str1 begins with : \" + str) \n",
    "else : print (\"str1 does not begin with : \"+ str) \n",
    "\n",
    "    \n",
    "if str1.endswith(str): \n",
    "    print (\"str1 ends with : \" + str) \n",
    "else : print (\"str1 does not end with : \" + str) \n",
    "    \n",
    "\n",
    "\"\"\"\n",
    "5. islower(“string”) :- This function returns true if all the letters in the string are lower cased, otherwise false.\n",
    "\"\"\"\n",
    "str = \"LETSUPGRADE\"\n",
    "\n",
    "if str.isupper() : \n",
    "       print (\"All characters in str are upper cased\") \n",
    "else : print (\"All characters in str are not upper cased\")\n",
    "    \n",
    "\"\"\"\n",
    "6. isupper(“string”) :- This function returns true if all the letters in the string are upper cased, otherwise false.\n",
    "\"\"\"\n",
    "\n",
    "str1 = \"letsupgrade\"\n",
    "\n",
    "if str1.islower() : \n",
    "       print (\"All characters in str1 are lower cased\") \n",
    "else : print (\"All characters in str1 are not lower cased\") \n",
    "    \n",
    "\n",
    "\"\"\"\n",
    "7. lower() :- This function returns the new string with all the letters converted into its lower case.\n",
    "\n",
    "8. upper() :- This function returns the new string with all the letters converted into its upper case.\n",
    "\n",
    "9. swapcase() :- This function is used to swap the cases of string i.e upper case is converted to lower case and vice versa.\n",
    "\n",
    "10. title() :- This function converts the string to its title case i.e the first letter of every word of string is upper cased and else all are lower cased.\n",
    "\"\"\"\n",
    "\n",
    "# Python code to demonstrate working of  \n",
    "# upper(), lower(), swapcase() and title() \n",
    "str = \"LetsUpgrade is To UpGraDe\"\n",
    "  \n",
    "# Coverting string into its lower case \n",
    "str1 = str.lower(); \n",
    "print (\"The lower case converted string is : \" + str1) \n",
    "  \n",
    "# Coverting string into its upper case \n",
    "str2 = str.upper(); \n",
    "print (\"The upper case converted string is : \" + str2) \n",
    "  \n",
    "# Coverting string into its swapped case \n",
    "str3 = str.swapcase(); \n",
    "print (\"The swap case converted string is : \" + str3) \n",
    "  \n",
    "# Coverting string into its title case \n",
    "str4 = str.title(); \n",
    "print (\"The title case converted string is : \" + str4) \n",
    "\n",
    "\n",
    "\"\"\"\n",
    "11. len() :- This function returns the length of the string.\n",
    "\n",
    "12. count(“string”, beg, end) :- This function counts the occurrence of mentioned substring in whole string. This function takes 3 arguments, substring, beginning position( by default 0) and end position(by default string length).\n",
    "\"\"\"\n",
    "\n",
    "# Python code to demonstrate working of  \n",
    "# len() and count() \n",
    "str = \"letsupgrade is to upgrade\"\n",
    "   \n",
    "# Printing length of string using len() \n",
    "print (\"The length of string is : \", len(str)); \n",
    "  \n",
    "# Printing occurrence of \"geeks\" in string \n",
    "# Prints 2 as it only checks till 15th element \n",
    "print (\"Number of appearance of \"\"upgrade\"\" is : \",end=\"\") \n",
    "print (str.count(\"upgrade\",0,25))\n",
    "\n",
    "\"\"\"\n",
    "13. center() :- This function is used to surround the string with a character repeated both sides of string multiple times. By default the character is a space. Takes 2 arguments, length of string and the character.\n",
    "\n",
    "14. ljust() :- This function returns the original string shifted to left that has a character at its right. It left adjusts the string. By default the character is space. It also takes two arguments, length of string and the character.\n",
    "\n",
    "15. rjust() :- This function returns the original string shifted to right that has a character at its left. It right adjusts the string. By default the character is space. It also takes two arguments, length of string and the character.\n",
    "\n",
    "\"\"\"\n",
    "str = \"letsupgrade\"\n",
    "\n",
    "# Printing the string after centering with '-' \n",
    "print (\"The string after centering with '-' is : \",end=\"\") \n",
    "print ( str.center(20,'-')) \n",
    "  \n",
    "# Printing the string after ljust() \n",
    "print (\"The string after ljust is : \",end=\"\") \n",
    "print ( str.ljust(20,'-')) \n",
    "  \n",
    "# Printing the string after rjust() \n",
    "print (\"The string after rjust is : \",end=\"\") \n",
    "print ( str.rjust(20,'-')) "
   ]
  },
  {
   "cell_type": "markdown",
   "metadata": {},
   "source": [
    "Question 3:\n",
    "Write a Python program to check if the given string is a Palindrome or Anagram or None of them. Display\n",
    "the message accordingly to the user."
   ]
  },
  {
   "cell_type": "code",
   "execution_count": 37,
   "metadata": {},
   "outputs": [
    {
     "name": "stdout",
     "output_type": "stream",
     "text": [
      "Two strings are anagram to each other\n",
      "Two strings are not anagram to each other\n",
      "String is Palindrome\n",
      "String is not palindrome\n"
     ]
    }
   ],
   "source": [
    "def is_anagram(str1, str2):\n",
    "    list_str1 = list(str1)\n",
    "    list_str1.sort()\n",
    "    list_str2 = list(str2)\n",
    "    list_str2.sort()\n",
    "\n",
    "    if (list_str1 == list_str2):\n",
    "        return (\"Two strings are anagram to each other\")\n",
    "        \n",
    "    else:\n",
    "        return (\"Two strings are not anagram to each other\")\n",
    "\n",
    "def is_palindrom(str1):\n",
    "    if str1 == str1[::-1]:\n",
    "        return (\"String is Palindrome\")\n",
    "    else:\n",
    "        return (\"String is not palindrome\")\n",
    "\n",
    "print(is_anagram('anagram','nagaram'))\n",
    "print(is_anagram('cat','rat'))\n",
    "\n",
    "print(is_palindrom('anbbna'))\n",
    "print(is_palindrom('anbbba'))"
   ]
  },
  {
   "cell_type": "markdown",
   "metadata": {},
   "source": [
    "Question 4:\n",
    "Write a Python's user-defined function that removes all the additional characters from the string and\n",
    "convert it finally to lower case using built-in lower(). eg: If the string is \"Dr. Darshan Ingle @AIML Trainer\",\n",
    "then the output be \"drdarshaningleaimltrainer\"."
   ]
  },
  {
   "cell_type": "code",
   "execution_count": 65,
   "metadata": {},
   "outputs": [
    {
     "data": {
      "text/plain": [
       "'drdarshaningleaimltrainer'"
      ]
     },
     "execution_count": 65,
     "metadata": {},
     "output_type": "execute_result"
    }
   ],
   "source": [
    "def format_string(test_string):\n",
    "    bad_chars = [';', ':', '!', \"*\",\" \",\"@\",\".\"] \n",
    "    for i in bad_chars : \n",
    "        test_string = test_string.replace(i, '').lower()\n",
    "    return test_string\n",
    "\n",
    "test_string = \"Dr. Darshan Ingle @AIML Trainer\"\n",
    "test_string1 = format_string(test_string)\n",
    "test_string1"
   ]
  },
  {
   "cell_type": "code",
   "execution_count": null,
   "metadata": {},
   "outputs": [],
   "source": []
  }
 ],
 "metadata": {
  "kernelspec": {
   "display_name": "Python 3",
   "language": "python",
   "name": "python3"
  },
  "language_info": {
   "codemirror_mode": {
    "name": "ipython",
    "version": 3
   },
   "file_extension": ".py",
   "mimetype": "text/x-python",
   "name": "python",
   "nbconvert_exporter": "python",
   "pygments_lexer": "ipython3",
   "version": "3.7.3"
  }
 },
 "nbformat": 4,
 "nbformat_minor": 2
}
