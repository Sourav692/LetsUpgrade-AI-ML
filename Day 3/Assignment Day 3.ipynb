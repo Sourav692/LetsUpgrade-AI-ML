{
 "cells": [
  {
   "cell_type": "code",
   "execution_count": 1,
   "metadata": {},
   "outputs": [
    {
     "data": {
      "text/html": [
       "<style scoped>\n",
       "  .ansiout {\n",
       "    display: block;\n",
       "    unicode-bidi: embed;\n",
       "    white-space: pre-wrap;\n",
       "    word-wrap: break-word;\n",
       "    word-break: break-all;\n",
       "    font-family: \"Source Code Pro\", \"Menlo\", monospace;;\n",
       "    font-size: 13px;\n",
       "    color: #555;\n",
       "    margin-left: 4px;\n",
       "    line-height: 19px;\n",
       "  }\n",
       "</style>\n",
       "<div class=\"ansiout\"></div>"
      ]
     },
     "metadata": {},
     "output_type": "display_data"
    }
   ],
   "source": [
    "###Question 1:\n",
    "####Write a program to subtract two complex numbers in Python."
   ]
  },
  {
   "cell_type": "code",
   "execution_count": 1,
   "metadata": {},
   "outputs": [
    {
     "name": "stdout",
     "output_type": "stream",
     "text": [
      "Addtion is: (3+5j)\n"
     ]
    }
   ],
   "source": [
    "def addComplex(num1, num2): \n",
    "    return num1 + num2 \n",
    "  \n",
    "\n",
    "num1 = complex(2, 3) \n",
    "num2 = complex(1, 2) \n",
    "print( \"Addtion is:\", addComplex(num1, num2)) "
   ]
  },
  {
   "cell_type": "code",
   "execution_count": 3,
   "metadata": {},
   "outputs": [
    {
     "data": {
      "text/html": [
       "<style scoped>\n",
       "  .ansiout {\n",
       "    display: block;\n",
       "    unicode-bidi: embed;\n",
       "    white-space: pre-wrap;\n",
       "    word-wrap: break-word;\n",
       "    word-break: break-all;\n",
       "    font-family: \"Source Code Pro\", \"Menlo\", monospace;;\n",
       "    font-size: 13px;\n",
       "    color: #555;\n",
       "    margin-left: 4px;\n",
       "    line-height: 19px;\n",
       "  }\n",
       "</style>\n",
       "<div class=\"ansiout\">Fourth Root of 20736 is: 12.0\n",
       "</div>"
      ]
     },
     "metadata": {},
     "output_type": "display_data"
    }
   ],
   "source": [
    "##Question 2 :\n",
    "##Write a program to find the fourth root of a number.\n",
    "\n",
    "def fourthRoot(num):\n",
    "  return num**0.25\n",
    "\n",
    "print(\"Fourth Root of 20736 is:\", fourthRoot(20736))"
   ]
  },
  {
   "cell_type": "code",
   "execution_count": 4,
   "metadata": {},
   "outputs": [
    {
     "data": {
      "text/html": [
       "<style scoped>\n",
       "  .ansiout {\n",
       "    display: block;\n",
       "    unicode-bidi: embed;\n",
       "    white-space: pre-wrap;\n",
       "    word-wrap: break-word;\n",
       "    word-break: break-all;\n",
       "    font-family: \"Source Code Pro\", \"Menlo\", monospace;;\n",
       "    font-size: 13px;\n",
       "    color: #555;\n",
       "    margin-left: 4px;\n",
       "    line-height: 19px;\n",
       "  }\n",
       "</style>\n",
       "<div class=\"ansiout\">Before swaping the first no is: 3\n",
       "Before swaping the second no is: 4\n",
       "After swaping the first no is: 4\n",
       "After swaping the second no is: 3\n",
       "</div>"
      ]
     },
     "metadata": {},
     "output_type": "display_data"
    }
   ],
   "source": [
    "#Question 3:\n",
    "#Write a program to swap two numbers in Python with the help of a temporary variable.\n",
    "\n",
    "def swap(num1,num2):\n",
    "  temp = num1\n",
    "  num1 = num2\n",
    "  num2 = temp\n",
    "  return num1,num2\n",
    "\n",
    "num1 = 3\n",
    "num2 = 4\n",
    "\n",
    "print(\"Before swaping the first no is:\", num1)\n",
    "print(\"Before swaping the second no is:\", num2)\n",
    "\n",
    "num1,num2 = swap(num1,num2)\n",
    "\n",
    "print(\"After swaping the first no is:\", num1)\n",
    "print(\"After swaping the second no is:\", num2)"
   ]
  },
  {
   "cell_type": "code",
   "execution_count": 5,
   "metadata": {},
   "outputs": [
    {
     "data": {
      "text/html": [
       "<style scoped>\n",
       "  .ansiout {\n",
       "    display: block;\n",
       "    unicode-bidi: embed;\n",
       "    white-space: pre-wrap;\n",
       "    word-wrap: break-word;\n",
       "    word-break: break-all;\n",
       "    font-family: \"Source Code Pro\", \"Menlo\", monospace;;\n",
       "    font-size: 13px;\n",
       "    color: #555;\n",
       "    margin-left: 4px;\n",
       "    line-height: 19px;\n",
       "  }\n",
       "</style>\n",
       "<div class=\"ansiout\">99.00 Fahrenheit is: 37.22 Celsius and 310.72 Kelvin\n",
       "</div>"
      ]
     },
     "metadata": {},
     "output_type": "display_data"
    }
   ],
   "source": [
    "#Question 5:\n",
    "#Write a program to convert Fahrenheit to kelvin and celsius both.\n",
    "\n",
    "def fahrenheit_to_Kelvin_Celsius(F):\n",
    "     return ((F - 32.0) * (5.0/9.0)),273.5 + ((F - 32.0) * (5.0/9.0)) \n",
    "  \n",
    "#fahrenheit = float(input(\"Enter temperature in fahrenheit: \"))\n",
    "\n",
    "fahrenheit = 99\n",
    "celsius,kelvin = fahrenheit_to_Kelvin_Celsius(fahrenheit)\n",
    "\n",
    "print('%.2f Fahrenheit is: %0.2f Celsius and %0.2f Kelvin' %(fahrenheit, celsius,kelvin))\n"
   ]
  },
  {
   "cell_type": "code",
   "execution_count": 6,
   "metadata": {},
   "outputs": [
    {
     "data": {
      "text/html": [
       "<style scoped>\n",
       "  .ansiout {\n",
       "    display: block;\n",
       "    unicode-bidi: embed;\n",
       "    white-space: pre-wrap;\n",
       "    word-wrap: break-word;\n",
       "    word-break: break-all;\n",
       "    font-family: \"Source Code Pro\", \"Menlo\", monospace;;\n",
       "    font-size: 13px;\n",
       "    color: #555;\n",
       "    margin-left: 4px;\n",
       "    line-height: 19px;\n",
       "  }\n",
       "</style>\n",
       "<div class=\"ansiout\">Before swaping the first no is: 12\n",
       "Before swaping the second no is: 4\n",
       "After swaping the first no is: 4\n",
       "After swaping the second no is: 12\n",
       "</div>"
      ]
     },
     "metadata": {},
     "output_type": "display_data"
    }
   ],
   "source": [
    "#Question 4:\n",
    "#Write a program to swap two numbers in Python without using a temporary variable.\n",
    "\n",
    "def swap_withoutTemp(num1,num2):\n",
    "  num1,num2 = num2,num1\n",
    "  return num1,num2\n",
    "\n",
    "num1 = 12\n",
    "num2 = 4\n",
    "\n",
    "print(\"Before swaping the first no is:\", num1)\n",
    "print(\"Before swaping the second no is:\", num2)\n",
    "\n",
    "num1,num2 = swap_withoutTemp(num1,num2)\n",
    "\n",
    "print(\"After swaping the first no is:\", num1)\n",
    "print(\"After swaping the second no is:\", num2)\n"
   ]
  }
 ],
 "metadata": {
  "kernelspec": {
   "display_name": "Python 3",
   "language": "python",
   "name": "python3"
  },
  "language_info": {
   "codemirror_mode": {
    "name": "ipython",
    "version": 3
   },
   "file_extension": ".py",
   "mimetype": "text/x-python",
   "name": "python",
   "nbconvert_exporter": "python",
   "pygments_lexer": "ipython3",
   "version": "3.7.3"
  },
  "name": "Assignment-Day 3",
  "notebookId": 852219582757029
 },
 "nbformat": 4,
 "nbformat_minor": 1
}
